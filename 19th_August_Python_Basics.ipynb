{
 "cells": [
  {
   "cell_type": "code",
   "execution_count": 1,
   "id": "92c76041-fc46-4f81-bca5-c4c2daec8f1e",
   "metadata": {},
   "outputs": [
    {
     "name": "stdout",
     "output_type": "stream",
     "text": [
      "a: 10\n",
      "b: 5\n"
     ]
    }
   ],
   "source": [
    "a=5\n",
    "b=10\n",
    "a,b=b,a\n",
    "print(\"a:\",a)\n",
    "print(\"b:\",b)"
   ]
  },
  {
   "cell_type": "code",
   "execution_count": 3,
   "id": "86732470-d470-4935-9f86-99d4fdc095e0",
   "metadata": {},
   "outputs": [
    {
     "name": "stdin",
     "output_type": "stream",
     "text": [
      "length in Metre 6\n",
      "Breadth in Metre 5\n"
     ]
    },
    {
     "name": "stdout",
     "output_type": "stream",
     "text": [
      "30.0\n"
     ]
    }
   ],
   "source": [
    "Length=float(input(\"length in Metre\")) \n",
    "         \n",
    "Breadth=float(input(\"Breadth in Metre\")) \n",
    "         \n",
    "Area= (Length*Breadth)  \n",
    "\n",
    "print(Area)"
   ]
  },
  {
   "cell_type": "code",
   "execution_count": 5,
   "id": "3e239b33-70db-4240-ba49-b023831268fc",
   "metadata": {},
   "outputs": [
    {
     "name": "stdin",
     "output_type": "stream",
     "text": [
      "temperature in Degree Celsius 65\n"
     ]
    },
    {
     "name": "stdout",
     "output_type": "stream",
     "text": [
      "149.0\n"
     ]
    }
   ],
   "source": [
    "Celsius=float(input(\"temperature in Degree Celsius\")) \n",
    "Farenhiet= (1.8*Celsius)+32\n",
    "print(Farenhiet) "
   ]
  },
  {
   "cell_type": "code",
   "execution_count": 7,
   "id": "a6fee946-c779-451b-8dba-0bbe11bab4cf",
   "metadata": {},
   "outputs": [
    {
     "name": "stdin",
     "output_type": "stream",
     "text": [
      " GANDHI IS COMING\n"
     ]
    },
    {
     "name": "stdout",
     "output_type": "stream",
     "text": [
      "16\n"
     ]
    }
   ],
   "source": [
    "String= str(input()) \n",
    "\n",
    "Length= len(String) \n",
    "\n",
    "print(Length)"
   ]
  },
  {
   "cell_type": "code",
   "execution_count": 9,
   "id": "383075f9-b929-4f09-bb7a-d6f1d8afe308",
   "metadata": {},
   "outputs": [
    {
     "name": "stdin",
     "output_type": "stream",
     "text": [
      "Sentence I LOVE MY COUNTRY\n"
     ]
    },
    {
     "name": "stdout",
     "output_type": "stream",
     "text": [
      "Number of vowels in the string  5 \n"
     ]
    }
   ],
   "source": [
    "def count_vowels(Rounak_string):\n",
    "    vowels = \"aeiouAEIOU\"\n",
    "    count = 0\n",
    "\n",
    "    for char in Rounak_string:\n",
    "        if char in vowels:\n",
    "            count += 1\n",
    "\n",
    "    return count\n",
    "Rounak_String = str(input(\"Sentence\" )) \n",
    "result = count_vowels(Rounak_String) \n",
    "print(f\"Number of vowels in the string  {result} \")\n"
   ]
  },
  {
   "cell_type": "code",
   "execution_count": 14,
   "id": "e9dda7f9-f378-44f5-b3b8-a8a6d06bfe74",
   "metadata": {},
   "outputs": [
    {
     "name": "stdin",
     "output_type": "stream",
     "text": [
      " MAHATO\n"
     ]
    },
    {
     "name": "stdout",
     "output_type": "stream",
     "text": [
      "OTAHAM\n"
     ]
    }
   ],
   "source": [
    "Original=str(input()) \n",
    "Reversed=Original[::-1] \n",
    "print(Reversed)"
   ]
  },
  {
   "cell_type": "code",
   "execution_count": 6,
   "id": "f952433f-18b0-45b9-b58c-b7dbed4ccdfc",
   "metadata": {},
   "outputs": [
    {
     "name": "stdout",
     "output_type": "stream",
     "text": [
      "MyNameisRAVIRANJANSHARMA\n"
     ]
    }
   ],
   "source": [
    "StringA= \"My Name is RAVI RANJAN SHARMA\"\n",
    "StringB= StringA.replace(\" \",\"\")\n",
    "print(StringB) "
   ]
  },
  {
   "cell_type": "code",
   "execution_count": 16,
   "id": "fe6382a2-3622-48d5-bdeb-47450e6e2fdd",
   "metadata": {},
   "outputs": [
    {
     "name": "stdin",
     "output_type": "stream",
     "text": [
      " NUN\n"
     ]
    },
    {
     "name": "stdout",
     "output_type": "stream",
     "text": [
      "NUN is a palindrome.\n"
     ]
    }
   ],
   "source": [
    "input_word=str(input())\n",
    "word=input_word.lower() \n",
    "input_word==input_word[::-1]\n",
    "if is_palindrome(input_word):\n",
    "    print(f\"{input_word} is a palindrome.\")\n",
    "else:\n",
    "    print(f\"{input_word} is not a palindrome.\")\n",
    "    \n"
   ]
  },
  {
   "cell_type": "code",
   "execution_count": null,
   "id": "de7b13e4-c746-4188-bfbf-526f51860d51",
   "metadata": {},
   "outputs": [],
   "source": []
  }
 ],
 "metadata": {
  "kernelspec": {
   "display_name": "Python 3 (ipykernel)",
   "language": "python",
   "name": "python3"
  },
  "language_info": {
   "codemirror_mode": {
    "name": "ipython",
    "version": 3
   },
   "file_extension": ".py",
   "mimetype": "text/x-python",
   "name": "python",
   "nbconvert_exporter": "python",
   "pygments_lexer": "ipython3",
   "version": "3.10.8"
  }
 },
 "nbformat": 4,
 "nbformat_minor": 5
}
